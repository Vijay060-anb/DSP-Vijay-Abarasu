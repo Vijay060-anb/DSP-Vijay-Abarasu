{
  "cells": [
    {
      "cell_type": "code",
      "execution_count": 7,
      "metadata": {},
      "outputs": [
        {
          "name": "stdout",
          "output_type": "stream",
          "text": [
            "Training data: (1168, 80), Test data: (292, 80)\n",
            "Preprocessing training data...\n",
            "Training model...\n",
            "Preprocessing test data...\n",
            "Model saved to models/model.joblib\n",
            "{'rmsle': 0.1699349972565739}\n"
          ]
        }
      ],
      "source": [
        "import sys\n",
        "import os\n",
        "import pandas as pd\n",
        "\n",
        "# Fix import paths\n",
        "project_root = os.path.dirname(os.getcwd()) if 'notebooks' in os.getcwd() else os.getcwd()\n",
        "sys.path.insert(0, project_root)\n",
        "\n",
        "from house_prices.train import build_model\n",
        "\n",
        "# Load data with correct path\n",
        "data_path = os.path.join(project_root, 'data', 'train.csv')\n",
        "training_df = pd.read_csv(data_path)\n",
        "model_performance_dict = build_model(training_df)\n",
        "print(model_performance_dict)"
      ]
    },
    {
      "cell_type": "code",
      "execution_count": 8,
      "metadata": {},
      "outputs": [
        {
          "name": "stdout",
          "output_type": "stream",
          "text": [
            "[119594.6  160120.   151063.74 ... 148263.74 136915.2  214352.2 ]\n"
          ]
        }
      ],
      "source": [
        "import sys\n",
        "import os\n",
        "import pandas as pd\n",
        "\n",
        "# Fix import paths\n",
        "project_root = os.path.dirname(os.getcwd()) if 'notebooks' in os.getcwd() else os.getcwd()\n",
        "sys.path.insert(0, project_root)\n",
        "\n",
        "from house_prices.inference import make_predictions\n",
        "\n",
        "# Load data with correct path\n",
        "data_path = os.path.join(project_root, 'data', 'test.csv')\n",
        "inference_df = pd.read_csv(data_path)\n",
        "predictions = make_predictions(inference_df)\n",
        "print(predictions)"
      ]
    }
  ],
  "metadata": {
    "kernelspec": {
      "display_name": "base",
      "language": "python",
      "name": "python3"
    },
    "language_info": {
      "codemirror_mode": {
        "name": "ipython",
        "version": 3
      },
      "file_extension": ".py",
      "mimetype": "text/x-python",
      "name": "python",
      "nbconvert_exporter": "python",
      "pygments_lexer": "ipython3",
      "version": "3.12.7"
    }
  },
  "nbformat": 4,
  "nbformat_minor": 2
}
